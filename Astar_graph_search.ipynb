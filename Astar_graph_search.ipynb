{
  "metadata": {
    "kernelspec": {
      "name": "python",
      "display_name": "Python (Pyodide)",
      "language": "python"
    },
    "language_info": {
      "codemirror_mode": {
        "name": "python",
        "version": 3
      },
      "file_extension": ".py",
      "mimetype": "text/x-python",
      "name": "python",
      "nbconvert_exporter": "python",
      "pygments_lexer": "ipython3",
      "version": "3.8"
    }
  },
  "nbformat_minor": 4,
  "nbformat": 4,
  "cells": [
    {
      "cell_type": "code",
      "source": "#import sys\n#from collections import deque\nimport heapq\n\nclass Graph:\n   \n    def __init__(self, initial, goal):\n        self.initial = initial\n        self.goal = goal\n        self.adjacencyList = {\n            \"A\": {\"B\": 3, \"L\": 12},\n            \"B\": {\"C\": 2, \"J\": 16},\n            \"C\": {\"D\": 2, \"K\": 9, \"M\": 13},\n            \"D\": {\"E\": 1, \"G\":6 },\n            \"E\": {\"L\":13},\n            \"F\": {\"H\":6,\"M\":4},\n            \"G\": {\"F\":2,\"B\":5},\n            \"H\": {\"I\":7,\"K\":2,\"L\":6},\n            \"I\": {\"J\":1,\"K\":4},\n            \"J\": {\"K\":2,\"H\":3},\n            \"K\": {\"M\":8},\n            \"L\": {\"J\":4},\n            \"M\": {\"H\":4,\"L\":5, \"I\":4}}\n        self.heuristics = { \"A\": 18, \"B\": 15, \"C\": 13, \"D\": 12, \"E\": 23, \"F\": 6, \"G\": 6, \"H\": 3, \"I\": 0, \"J\": 6, \"K\": 8, \"L\": 10, \"M\": 9}\n        self.cost = { \"A\": 10000, \"B\": 10000, \"C\": 10000, \"D\": 10000, \"E\": 10000, \"F\": 10000, \"G\": 10000, \"H\": 10000, \"I\": 10000, \"J\": 10000, \"K\": 10000, \"L\": 10000, \"M\": 10000}\n        self.cost[self.initial]=0\n        self.parentNode = { \"A\": -1, \"B\": -1, \"C\": -1, \"D\": -1, \"E\": -1, \"F\": -1, \"G\": -1, \"H\": -1, \"I\": -1, \"J\": -1, \"K\": -1, \"L\": -1, \"M\": -1}\n    def fun(self, n): \n        return self.g(n) + self.h(n)\n    def expand(self, parent):\n        for node in self.adjacencyList[parent]:\n            self.relaxed_cost(parent, node)\n        return list(self.adjacencyList[parent].keys())\n\n    def goal_test(self, node):\n            return node == self.goal\n\n    def g(self, node ):\n        return self.cost[node]\n\n    def h(self,n):\n        return self.heuristics[n]\n\n    def relaxed_cost(self, parent, child):\n        if self.cost[child]> self.cost[parent] + self.adjacencyList[parent][child]:\n            self.cost[child] = self.cost[parent] + self.adjacencyList[parent][child]\n            self.parentNode[child]= parent\n        return None\n\n\n\n# ______________________________________________________________________________\n\n\n\ndef astar_search(graph):\n    \n    start = graph.initial\n    frontier = PriorityQueue('min')\n    frontier.append(start, graph.fun(start))\n    explored = set()\n    while frontier:\n        node = frontier.pop()\n        if graph.goal_test(node):\n            print(\"\")\n            print(\"A * Graph Search\")\n            print(\"\")\n            node = graph.goal\n            depth = 0\n            string = \"\"\n            while graph.parentNode[node] != -1:\n                string += node+\" >= \"\n                node =graph.parentNode[node]\n                depth +=1\n            string += node\n            rev=string[::-1]\n            print(\"Solution path: \"+rev+\" | depth of the goal state: \"+str(depth)+\" | cost: \"+str(graph.fun(graph.goal)))\n            print(\"\")\n            return None\n        explored.add(node)\n        for child in graph.expand(node):\n            if child not in explored and child not in frontier:\n                frontier.append(child, graph.fun(child))\n            elif child in frontier:\n                if graph.fun(child) < frontier[child]:\n                    del frontier[child]\n                    frontier.append(child, graph.fun(child))\n                    \n                    \n    return None\n\n\n# ______________________________________________________________________________\n\nclass PriorityQueue:\n    \n\n    def __init__(self, order='min'):\n        self.heap = []\n        if order != 'min':\n            raise ValueError(\"Order must be either 'min'.\")\n\n    def append(self, item, value):\n        \"\"\"Insert item at its correct position.\"\"\"\n        heapq.heappush(self.heap, (value, item))\n\n    def extend(self, items):\n        \"\"\"Insert each item in items at its correct position.\"\"\"\n        for item in items:\n            self.append(item)\n\n    def pop(self):\n        \"\"\"Pop and return the item (with min or max f(x) value)\n        depending on the order.\"\"\"\n        if self.heap:\n            return heapq.heappop(self.heap)[1]\n        else:\n            raise Exception('Trying to pop from empty PriorityQueue.')\n\n    def __len__(self):\n        \"\"\"Return current capacity of PriorityQueue.\"\"\"\n        return len(self.heap)\n\n    def __contains__(self, key):\n        \"\"\"Return True if the key is in PriorityQueue.\"\"\"\n        return any([item == key for _, item in self.heap])\n\n    def __getitem__(self, key):\n        \"\"\"Returns the first value associated with key in PriorityQueue.\n        Raises KeyError if key is not present.\"\"\"\n        for value, item in self.heap:\n            if item == key:\n                return value\n        raise KeyError(str(key) + \" is not in the priority queue\")\n\n    def __delitem__(self, key):\n        \"\"\"Delete the first occurrence of key.\"\"\"\n        try:\n            del self.heap[[item == key for _, item in self.heap].index(True)]\n        except ValueError:\n            raise KeyError(str(key) + \" is not in the priority queue\")\n        heapq.heapify(self.heap)\n\n\ngraph = Graph(\"A\", \"I\")\n\nastar_search(graph)",
      "metadata": {
        "trusted": true,
        "tags": [],
        "editable": true,
        "slideshow": {
          "slide_type": ""
        }
      },
      "outputs": [
        {
          "name": "stdout",
          "text": "",
          "output_type": "stream"
        },
        {
          "name": "stdout",
          "text": "\nA * Graph Search\nSolution path: A => L => J => H => I | depth of the goal state: 4 | cost: 26\n",
          "output_type": "stream"
        }
      ],
      "execution_count": 16
    }
  ]
}