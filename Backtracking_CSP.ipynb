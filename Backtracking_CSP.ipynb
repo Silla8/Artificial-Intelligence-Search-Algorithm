{
  "metadata": {
    "kernelspec": {
      "name": "python",
      "display_name": "Python (Pyodide)",
      "language": "python"
    },
    "language_info": {
      "codemirror_mode": {
        "name": "python",
        "version": 3
      },
      "file_extension": ".py",
      "mimetype": "text/x-python",
      "name": "python",
      "nbconvert_exporter": "python",
      "pygments_lexer": "ipython3",
      "version": "3.8"
    }
  },
  "nbformat_minor": 4,
  "nbformat": 4,
  "cells": [
    {
      "cell_type": "code",
      "source": "from sortedcontainers import SortedSet\n\nclass CSP:\n    def __init__(self):\n        \n        #case 1\n        self.variables = [\"PP1-Mon\", \"PP1-Wed\", \"AI-Tue\", \"AI-Fri\", \"TOC-Wed\", \"TOC-Fri\", \"ML-Tue\", \"ML-Fri\", \"MD-Thu\", \"MD-Sat\"]\n        self.domains = {\"PP1-Mon\": [\"A\", \"C\"], \"PP1-Wed\": [\"A\", \"C\"], \"AI-Tue\": [\"B\", \"C\"], \"AI-Fri\": [\"B\", \"C\"], \"TOC-Wed\": [\"A\"], \"TOC-Fri\": [\"A\"], \"ML-Tue\": [\"B\", \"C\"], \"ML-Fri\": [\"B\", \"C\"], \"MD-Thu\": [\"A\", \"B\"], \"MD-Sat\": [\"A\", \"B\"]}\n        self.neighbors = {\"PP1-Mon\": [], \"PP1-Wed\": [\"TOC-Wed\"], \"AI-Tue\": [\"ML-Tue\"], \"AI-Fri\": [\"ML-Fri\"], \"TOC-Wed\": [\"PP1-Wed\"], \"TOC-Fri\": [], \"ML-Tue\": [\"AI-Tue\"], \"ML-Fri\": [\"AI-Fri\"], \"MD-Thu\": [], \"MD-Sat\": []}\n        self.current_domains = {\"PP1-Mon\": [\"A\", \"C\"], \"PP1-Wed\": [\"A\", \"C\"], \"AI-Tue\": [\"B\", \"C\"], \"AI-Fri\": [\"B\", \"C\"], \"TOC-Wed\": [\"A\"], \"TOC-Fri\": [\"A\"], \"ML-Tue\": [\"B\", \"C\"], \"ML-Fri\": [\"B\", \"C\"], \"MD-Thu\": [\"A\", \"B\"], \"MD-Sat\": [\"A\", \"B\"]}\n       \n        self.nassigns = 0\n        \n        #case 2\n        #self.variables = [\"PP1\", \"AI\", \"TOC\", \"ML\", \"MD\"]\n        #self.domains = {\"PP1\": [\"A\", \"C\"], \"AI\": [\"B\", \"C\"] , \"TOC\": [\"A\"], \"ML\": [\"B\", \"C\"] , \"MD\": [\"A\", \"B\"]}\n        #self.neighbors = {\"PP1\": [\"TOC\"], \"AI\": [\"ML\"] , \"TOC\": [\"PP1\"], \"ML\": [\"AI\"] , \"MD\": []}\n        #self.current_domains = {\"PP1\": [\"A\", \"C\"], \"AI\": [\"B\", \"C\"] , \"TOC\": [\"A\"], \"ML\": [\"B\", \"C\"] , \"MD\": [\"A\", \"B\"]}\n    \n    def assign(self, var, val, assignment):\n        \"\"\"Add {var: val} to assignment; Discard the old value if any.\"\"\"\n        assignment[var] = val\n        self.nassigns += 1\n\n    def unassign(self, var, assignment):\n        \"\"\"Remove {var: val} from assignment.\n        DO NOT call this if you are changing a variable to a new value;\n        just call assign for that.\"\"\"\n        if var in assignment:\n            del assignment[var]\n\n    def nconflicts(self, var, val, assignment):\n        \"\"\"Return the number of conflicts var=val has with other variables.\"\"\"\n\n        # Subclasses may implement this more efficiently\n        def conflict(var2):\n            return var2 in assignment and val == assignment[var2]\n        i=0\n        for v in self.neighbors[var]:\n            if conflict(v):\n                i +=1\n        return i\n\n    def display(self, assignment):\n        \"\"\"Show a human-readable representation of the CSP.\"\"\"\n        # Subclasses can print in a prettier way, or display with a GUI\n        print(assignment)\n\n    # These methods are for the tree and graph-search interface:\n\n    def actions(self, state):\n        \"\"\"Return a list of applicable actions: non conflicting\n        assignments to an unassigned variable.\"\"\"\n        if len(state) == len(self.variables):\n            return []\n        else:\n            assignment = dict(state)\n            var = first([v for v in self.variables if v not in assignment])\n            return [(var, val) for val in self.domains[var]\n                    if self.nconflicts(var, val, assignment) == 0]\n\n    def result(self, state, action):\n        \"\"\"Perform an action and return the new state.\"\"\"\n        (var, val) = action\n        return state + ((var, val),)\n\n    def goal_test(self, state):\n        \"\"\"The goal is to assign all variables, with all constraints satisfied.\"\"\"\n        assignment = dict(state)\n        return (len(assignment) == len(self.variables)\n                and all(self.nconflicts(variables, assignment[variables], assignment) == 0\n                        for variables in self.variables))\n\n    # These are for constraint propagation\n\n    def suppose(self, var, value):\n        \"\"\"Start accumulating inferences from assuming var=value.\"\"\"\n        removals = [(var, a) for a in self.current_domains[var] if a != value]\n        self.current_domains[var] = [value]\n        return removals\n\n    def prune(self, var, value, removals):\n        \"\"\"Rule out var=value.\"\"\"\n        self.current_domains[var].remove(value)\n        if removals is not None:\n            removals.append((var, value))\n\n\n    def restore(self, removals):\n        \"\"\"Undo a supposition and all inferences from it.\"\"\"\n        for B, b in removals:\n            self.current_domains[B].append(b)\n\n    # Variable ordering\n\n    def mini_remaining_val(self, assignment):\n        \"\"\"Minimum-remaining-values heuristic.\"\"\"\n        minimum=1000\n        var=\"\"\n        for v in self.variables:\n            if v not in assignment:\n                if len(self.current_domains[v]) < minimum:\n                    minimum = len(self.current_domains[v])\n                    var = v\n            \n        return var\n\n\n\n    # Value ordering\n\n\n    def least_constrained_val(self, var, assignment):\n        \"\"\"Least-constraining-values heuristic.\"\"\"\n\n        def counter_constraints(var, val):\n            count=0\n            for var2 in self.neighbors[var]:\n                for value in self.current_domains[var2]:\n                    if value!= val:\n                        count += 1\n            return count\n                        \n        return sorted(self.current_domains[var], key=lambda val: counter_constraints(var, val))\n\n\n\n    # Inference\n\n\n    def forward_checking(self, var, value, assignment, removals):\n        \"\"\"Prune neighbor values inconsistent with var=value.\"\"\"\n        for B in self.neighbors[var]:\n            if B not in assignment:\n                for b in self.current_domains[B][:]:\n                    if value == b:\n                        self.prune(B, b, removals)\n                if not self.current_domains[B]:\n                    return False\n        return True\n\n\n\n\n\n\n# The search\n\ndef backtracking_search(csp):\n\n    def backtrack(assignment):\n        if len(assignment) == len(csp.variables):\n            return assignment\n        var = csp.mini_remaining_val(assignment)\n        for value in csp.least_constrained_val(var, assignment):\n            if 0 == csp.nconflicts(var, value, assignment):\n                csp.assign(var, value, assignment)\n                removals = csp.suppose(var, value)\n                if csp.forward_checking(var, value, assignment, removals):\n                    result = backtrack(assignment)\n                    if result is not None:\n                        return result\n                csp.restore(removals)\n        csp.unassign(var, assignment)\n        return None\n\n    result = backtrack({})\n    assert result is None or csp.goal_test(result)\n    return result\n\n\ncsp = CSP()\n\nbacktracking_search(csp)\n",
      "metadata": {
        "trusted": true
      },
      "outputs": [
        {
          "execution_count": 33,
          "output_type": "execute_result",
          "data": {
            "text/plain": "{'TOC-Wed': 'A',\n 'PP1-Wed': 'C',\n 'TOC-Fri': 'A',\n 'PP1-Mon': 'A',\n 'AI-Tue': 'B',\n 'ML-Tue': 'C',\n 'AI-Fri': 'B',\n 'ML-Fri': 'C',\n 'MD-Thu': 'A',\n 'MD-Sat': 'A'}"
          },
          "metadata": {}
        }
      ],
      "execution_count": 34
    },
    {
      "cell_type": "raw",
      "source": "\ncase 1: {'TOC-Wed': 'A',\n 'PP1-Wed': 'C',\n 'TOC-Fri': 'A',\n 'PP1-Mon': 'A',\n 'AI-Tue': 'B',\n 'ML-Tue': 'C',\n 'AI-Fri': 'B',\n 'ML-Fri': 'C',\n 'MD-Thu': 'A',\n 'MD-Sat': 'A'}\n\ncase 2 : {'TOC': 'A', 'PP1': 'C', 'AI': 'B', 'ML': 'C', 'MD': 'A'}\n\n",
      "metadata": {}
    }
  ]
}